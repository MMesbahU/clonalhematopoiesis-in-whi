{
 "cells": [
  {
   "cell_type": "markdown",
   "id": "5fde13fc",
   "metadata": {},
   "source": [
    "## Annovar Annotations and Sequence context\n"
   ]
  },
  {
   "cell_type": "code",
   "execution_count": null,
   "id": "749288fb",
   "metadata": {},
   "outputs": [],
   "source": [
    "library(data.table)\n",
    "\n",
    "library(dplyr)\n",
    "\n",
    "library(tidyr)\n",
    "\n",
    "library(readxl)\n",
    "\n",
    "library(stringr)"
   ]
  },
  {
   "cell_type": "code",
   "execution_count": null,
   "id": "30f0e328",
   "metadata": {},
   "outputs": [],
   "source": [
    "batch_number <- 20240322 # 20231106\n",
    "setwd(paste0(\"whimips_longitudinal_\",\n",
    "             batch_number,\n",
    "             \"/per_sample_ch_var/\"))\n",
    "# setwd(\"whimips_longitudinal_20231106\")"
   ]
  },
  {
   "cell_type": "code",
   "execution_count": null,
   "id": "bf37f9cc",
   "metadata": {
    "scrolled": true
   },
   "outputs": [],
   "source": [
    "## Sample info w VAF>0.1% & AD>=5 & DP>=50\n",
    "whi_chip <- fread(\"vaf001ad5dp50.vars_filt_min1_vaf1p0pct_5altrd.tsv.gz\")\n",
    "\n",
    "head(whi_chip)\n",
    "\n",
    "## CHIP variants info\n",
    "my_all_var <- fread(paste0(\"../all_putative_CHIP.whimips_longitudinal_\",batch_number,\".tsv\"), \n",
    "                           header = T)\n",
    "head(my_all_var)"
   ]
  },
  {
   "cell_type": "code",
   "execution_count": null,
   "id": "185647e7",
   "metadata": {
    "scrolled": false
   },
   "outputs": [],
   "source": [
    "table(my_all_var$whitelist, exclude=NULL)\n",
    "\n",
    "table(whi_chip$CHROM_POS_REF_ALT %in% my_all_var$chr_pos_ref_alt)\n",
    "\n",
    "table(my_all_var$chr_pos_ref_alt %in% whi_chip$CHROM_POS_REF_ALT)\n",
    "\n",
    "names(my_all_var)"
   ]
  },
  {
   "cell_type": "code",
   "execution_count": null,
   "id": "aada83e5",
   "metadata": {
    "scrolled": true
   },
   "outputs": [],
   "source": [
    "## Annotate\n",
    "annot.whi_chip <- merge(whi_chip, \n",
    "                        my_all_var[,c(1,2,7:21)], \n",
    "                        by.x=\"CHROM_POS_REF_ALT\", \n",
    "                        by.y=\"chr_pos_ref_alt\")\n",
    "\n",
    "summary(annot.whi_chip)"
   ]
  },
  {
   "cell_type": "code",
   "execution_count": null,
   "id": "4d8bf8dd",
   "metadata": {},
   "outputs": [],
   "source": [
    "head(annot.whi_chip)"
   ]
  },
  {
   "cell_type": "code",
   "execution_count": null,
   "id": "dd533620",
   "metadata": {},
   "outputs": [],
   "source": [
    "sort(table(annot.whi_chip$CHROM_POS_REF_ALT), decreasing = T)"
   ]
  },
  {
   "cell_type": "code",
   "execution_count": null,
   "id": "f9760f35",
   "metadata": {},
   "outputs": [],
   "source": [
    "sort(table(annot.whi_chip$CHROM_POS_REF_ALT[annot.whi_chip$whitelist==\"FALSE\"]), decreasing = T)"
   ]
  },
  {
   "cell_type": "code",
   "execution_count": null,
   "id": "5b0bd6fd",
   "metadata": {},
   "outputs": [],
   "source": [
    "summary(annot.whi_chip$VAF[annot.whi_chip$CHROM_POS_REF_ALT==\"20_31017761_G_A\"])\n",
    "\n",
    "summary(annot.whi_chip$VAF[annot.whi_chip$CHROM_POS_REF_ALT==\"6_43308131_C_T\"])\n",
    "\n",
    "summary(annot.whi_chip$VAF[annot.whi_chip$CHROM_POS_REF_ALT==\"20_31025035_C_T\"])\n",
    "\n",
    "summary(annot.whi_chip$VAF[annot.whi_chip$CHROM_POS_REF_ALT==\"X_119388254_AGAG_A\"])\n",
    "\n",
    "summary(annot.whi_chip$VAF[annot.whi_chip$CHROM_POS_REF_ALT==\"17_58734024_G_A\"])\n",
    "\n",
    "summary(annot.whi_chip$VAF[annot.whi_chip$CHROM_POS_REF_ALT==\"6_43316130_G_A\"])\n",
    "\n",
    "summary(annot.whi_chip$VAF[annot.whi_chip$CHROM_POS_REF_ALT==\"2_25523072_C_T\"])\n",
    "\n",
    "summary(annot.whi_chip$VAF[annot.whi_chip$CHROM_POS_REF_ALT==\"17_58734024_G_A\"])\n",
    "\n",
    "summary(annot.whi_chip$VAF[annot.whi_chip$CHROM_POS_REF_ALT==\"6_43316130_G_A\"])"
   ]
  },
  {
   "cell_type": "code",
   "execution_count": null,
   "id": "ddd5c7b6",
   "metadata": {},
   "outputs": [],
   "source": [
    "sort(table(annot.whi_chip$CHROM_POS_REF_ALT[annot.whi_chip$whitelist==\"TRUE\"]), decreasing = T)"
   ]
  },
  {
   "cell_type": "code",
   "execution_count": null,
   "id": "ae3e9771",
   "metadata": {},
   "outputs": [],
   "source": [
    "summary(annot.whi_chip$VAF[annot.whi_chip$CHROM_POS_REF_ALT==\"4_106164772_C_T\"])\n",
    "\n",
    "summary(annot.whi_chip$VAF[annot.whi_chip$CHROM_POS_REF_ALT==\"2_25469945_C_T\"])\n",
    "\n",
    "summary(annot.whi_chip$VAF[annot.whi_chip$CHROM_POS_REF_ALT==\"2_25457158_G_A\"])\n",
    "\n",
    "summary(annot.whi_chip$VAF[annot.whi_chip$CHROM_POS_REF_ALT==\"2_25464487_G_A\"])\n",
    "\n",
    "summary(annot.whi_chip$VAF[annot.whi_chip$CHROM_POS_REF_ALT==\"17_7577094_G_A\"])"
   ]
  },
  {
   "cell_type": "code",
   "execution_count": null,
   "id": "3ff563e8",
   "metadata": {
    "scrolled": true
   },
   "outputs": [],
   "source": [
    "count.annot.whi_chip <- annot.whi_chip %>% group_by(CHROM_POS_REF_ALT) %>% summarise(n_count = n())\n",
    "head(count.annot.whi_chip)\n",
    "\n",
    "annot.whi_chip.v2 <- merge (annot.whi_chip, count.annot.whi_chip, by=\"CHROM_POS_REF_ALT\")\n",
    "head(annot.whi_chip.v2)"
   ]
  },
  {
   "cell_type": "markdown",
   "id": "df908d8f",
   "metadata": {},
   "source": [
    "## Sample pairs using fingerprint snps"
   ]
  },
  {
   "cell_type": "code",
   "execution_count": null,
   "id": "dd3d9fa0",
   "metadata": {},
   "outputs": [],
   "source": [
    "\n",
    "# library(readxl)\n",
    "\n",
    "samp_pairs <- read_excel(\"whimips_longitudinal_20240322/fingerprint_pairing_20240320.xlsx\",\n",
    "                         sheet = 1)\n",
    "str(samp_pairs)\n",
    "\n",
    "\n",
    "table(samp_pairs$nsamps)"
   ]
  },
  {
   "cell_type": "code",
   "execution_count": null,
   "id": "3feaa069",
   "metadata": {},
   "outputs": [],
   "source": [
    "head(str_split_fixed(string=samp_pairs$lsamps, pattern = \",\", n = 2)[, 1])\n",
    "\n",
    "head(gsub(pattern=\",\", replacement=\":\", x=samp_pairs$lsamps))"
   ]
  },
  {
   "cell_type": "code",
   "execution_count": null,
   "id": "fca193eb",
   "metadata": {},
   "outputs": [],
   "source": [
    "# library(stringr)\n",
    "# n samp =1\n",
    "whi_np1 <- subset(samp_pairs, samp_pairs$nsamps==1)\n",
    "whi_np1$Samp_ID <- whi_np1$lsamps\n",
    "whi_np1$Sample_Group <- whi_np1$lsamps\n",
    "\n",
    "# n samp = 2\n",
    "whi_np2.v1 <- subset(samp_pairs, samp_pairs$nsamps==2)\n",
    "whi_np2.v1$Samp_ID <- str_split_fixed(string=whi_np2.v1$lsamps, pattern = \",\", n = 2)[, 1]\n",
    "whi_np2.v1$Sample_Group <- gsub(pattern=\",\", replacement=\":\", x=whi_np2.v1$lsamps)\n",
    "\n",
    "whi_np2.v2 <- subset(samp_pairs, samp_pairs$nsamps==2)\n",
    "whi_np2.v2$Samp_ID <- str_split_fixed(string=whi_np2.v2$lsamps, pattern = \",\", n = 2)[, 2]\n",
    "whi_np2.v2$Sample_Group <- gsub(pattern=\",\", replacement=\":\", x=whi_np2.v2$lsamps)\n",
    "\n",
    "# n samp = 3\n",
    "whi_np3.v1 <- subset(samp_pairs, samp_pairs$nsamps==3)\n",
    "whi_np3.v1$Samp_ID <- str_split_fixed(string=whi_np3.v1$lsamps, pattern = \",\", n = 3)[, 1]\n",
    "whi_np3.v1$Sample_Group <- gsub(pattern=\",\", replacement=\":\", x=whi_np3.v1$lsamps)\n",
    "\n",
    "whi_np3.v2 <- subset(samp_pairs, samp_pairs$nsamps==3)\n",
    "whi_np3.v2$Samp_ID <- str_split_fixed(string=whi_np3.v2$lsamps, pattern = \",\", n = 3)[, 2]\n",
    "whi_np3.v2$Sample_Group <- gsub(pattern=\",\", replacement=\":\", x=whi_np3.v2$lsamps)\n",
    "\n",
    "whi_np3.v3 <- subset(samp_pairs, samp_pairs$nsamps==3)\n",
    "whi_np3.v3$Samp_ID <- str_split_fixed(string=whi_np3.v3$lsamps, pattern = \",\", n = 3)[, 3]\n",
    "whi_np3.v3$Sample_Group <- gsub(pattern=\",\", replacement=\":\", x=whi_np3.v3$lsamps)\n",
    "\n",
    "# n samp = 4\n",
    "whi_np4.v1 <- subset(samp_pairs, samp_pairs$nsamps==4)\n",
    "whi_np4.v1$Samp_ID <- str_split_fixed(string=whi_np4.v1$lsamps, pattern = \",\", n = 4)[, 1]\n",
    "whi_np4.v1$Sample_Group <- gsub(pattern=\",\", replacement=\":\", x=whi_np4.v1$lsamps)\n",
    "\n",
    "whi_np4.v2 <- subset(samp_pairs, samp_pairs$nsamps==4)\n",
    "whi_np4.v2$Samp_ID <- str_split_fixed(string=whi_np4.v2$lsamps, pattern = \",\", n = 4)[, 2]\n",
    "whi_np4.v2$Sample_Group <- gsub(pattern=\",\", replacement=\":\", x=whi_np4.v2$lsamps)\n",
    "\n",
    "whi_np4.v3 <- subset(samp_pairs, samp_pairs$nsamps==4)\n",
    "whi_np4.v3$Samp_ID <- str_split_fixed(string=whi_np4.v3$lsamps, pattern = \",\", n = 4)[, 3]\n",
    "whi_np4.v3$Sample_Group <- gsub(pattern=\",\", replacement=\":\", x=whi_np4.v3$lsamps)\n",
    "\n",
    "whi_np4.v4 <- subset(samp_pairs, samp_pairs$nsamps==4)\n",
    "whi_np4.v4$Samp_ID <- str_split_fixed(string=whi_np4.v4$lsamps, pattern = \",\", n = 4)[, 4]\n",
    "whi_np4.v4$Sample_Group <- gsub(pattern=\",\", replacement=\":\", x=whi_np4.v4$lsamps)\n",
    "\n",
    "## combine\n",
    "WHI_SAMP_pairs <- as.data.frame(rbind(whi_np1, \n",
    "                                      whi_np2.v1, \n",
    "                                      whi_np2.v2, \n",
    "                                      whi_np3.v1, \n",
    "                                      whi_np3.v2, whi_np3.v3, \n",
    "                                      whi_np4.v1, whi_np4.v2, \n",
    "                                      whi_np4.v3, whi_np4.v4))\n",
    "\n",
    "#str(WHI_SAMP_pairs)\n",
    "\n",
    "table(samp_pairs$nsamps)\n",
    "\n",
    "table(table(WHI_SAMP_pairs$Samp_ID))\n",
    "\n",
    "table(table(WHI_SAMP_pairs$Sample_Group))\n",
    "\n"
   ]
  },
  {
   "cell_type": "code",
   "execution_count": null,
   "id": "7e8a98c3",
   "metadata": {},
   "outputs": [],
   "source": [
    "table(annot.whi_chip.v2$Sampleid %in% WHI_SAMP_pairs$Samp_ID)\n",
    "\n",
    "head(annot.whi_chip.v2$Sampleid[!(annot.whi_chip.v2$Sampleid %in% WHI_SAMP_pairs$Samp_ID)])"
   ]
  },
  {
   "cell_type": "code",
   "execution_count": null,
   "id": "87ae6753",
   "metadata": {
    "scrolled": true
   },
   "outputs": [],
   "source": [
    "annot.whi_chip.v2.pairs <- merge(annot.whi_chip.v2, WHI_SAMP_pairs, \n",
    "                                 by.x= \"Sampleid\", by.y=\"Samp_ID\")\n",
    "\n",
    "str(annot.whi_chip.v2.pairs)"
   ]
  },
  {
   "cell_type": "code",
   "execution_count": null,
   "id": "7b80a5b7",
   "metadata": {},
   "outputs": [],
   "source": [
    "names(annot.whi_chip.v2.pairs)"
   ]
  },
  {
   "cell_type": "code",
   "execution_count": null,
   "id": "78c1fd1f",
   "metadata": {},
   "outputs": [],
   "source": [
    "# All putative CHIP variants\n",
    "fwrite(annot.whi_chip.v2.pairs, \n",
    "       paste0(\"WHI_\",batch_number,\".chip_variants.vaf001_DP50_AD5_FR2.all_putative_CHIP.csv.gz\"), \n",
    "       row.names = F, col.names = T, quote = T, sep = \",\")\n",
    "\n",
    "# Variants in White list Variants\n",
    "fwrite(annot.whi_chip.v2.pairs[annot.whi_chip.v2.pairs$whitelist==\"TRUE\", ], \n",
    "          paste0(\"WHI_\",batch_number,\".chip_variants.vaf001_DP50_AD5_FR2.varOI_wl.csv.gz\"), \n",
    "          row.names = F, col.names = T, quote = T, sep = \",\")\n",
    "\n",
    "# Other Variants not in (White list, DNMT3A variants + Manual Review Variants)\n",
    "fwrite(annot.whi_chip.v2.pairs[annot.whi_chip.v2.pairs$whitelist==\"FALSE\",], \n",
    "  paste0(\"WHI_\",batch_number,\".chip_variants.vaf001_DP50_AD5_FR2.varOI_nonWL_vars.csv.gz\"), \n",
    "  row.names = F, col.names = T, quote = T, sep = \",\")\n"
   ]
  },
  {
   "cell_type": "markdown",
   "id": "31692b32",
   "metadata": {},
   "source": [
    "#### Exclude Black listed variants"
   ]
  },
  {
   "cell_type": "code",
   "execution_count": null,
   "id": "91314ba7",
   "metadata": {
    "scrolled": true
   },
   "outputs": [],
   "source": [
    "### exclude Black listed variants provided by Sidd\n",
    "var_blacklisted <- fread(\"whi/blacklist.csv\", \n",
    "                         header=F)\n",
    "head(var_blacklisted)\n"
   ]
  },
  {
   "cell_type": "code",
   "execution_count": null,
   "id": "25b89a5b",
   "metadata": {
    "scrolled": true
   },
   "outputs": [],
   "source": [
    "summary(annot.whi_chip.v2.pairs$VAF[annot.whi_chip.v2.pairs$CHROM_POS_REF_ALT %in% var_blacklisted$V1])\n",
    "\n",
    "boxplot(annot.whi_chip.v2.pairs$VAF[annot.whi_chip.v2.pairs$CHROM_POS_REF_ALT %in% var_blacklisted$V1] ~\n",
    "       annot.whi_chip.v2.pairs$CHROM_POS_REF_ALT[annot.whi_chip.v2.pairs$CHROM_POS_REF_ALT %in% var_blacklisted$V1])"
   ]
  },
  {
   "cell_type": "code",
   "execution_count": null,
   "id": "1a5c4c3d",
   "metadata": {},
   "outputs": [],
   "source": [
    "annot.whi_chip.v2.pairs$Blacklisted <- ifelse(annot.whi_chip.v2.pairs$CHROM_POS_REF_ALT %in% \n",
    "                                              var_blacklisted$V1, 1, 0)\n",
    "\n",
    "table(annot.whi_chip.v2.pairs$Blacklisted, exclude=NULL)"
   ]
  },
  {
   "cell_type": "code",
   "execution_count": null,
   "id": "0141f9d1",
   "metadata": {},
   "outputs": [],
   "source": [
    "# wl + no blacklist Variants\n",
    "# annot.whi_chip_wl_noBlacklist <- subset(annot.whi_chip.v, \n",
    "  #                                      !(annot.whi_chip$CHROM_POS_REF_ALT %in% var_blacklisted$V1) & \n",
    "   #                                       annot.whi_chip$whitelist==\"TRUE\")\n",
    "\n",
    "\n",
    "## all w/o blacklist\n",
    "fwrite(annot.whi_chip.v2.pairs, \n",
    "       paste0(\"WHI_\",batch_number,\".chip_variants.vaf001_DP50_AD5_FR2.all_putative_CHIP_annotBlacklist.csv.gz\"), \n",
    "       row.names = F, col.names = T, quote = T, sep = \",\")\n",
    "\n",
    "\n",
    "## only white list variants\n",
    "fwrite(annot.whi_chip.v2.pairs[annot.whi_chip.v2.pairs$whitelist==\"TRUE\", ], \n",
    "          paste0(\"WHI_\", batch_number,\".chip_variants.vaf001_DP50_AD5_FR2.varOI_wl_annotBlacklist.csv.gz\"), \n",
    "          row.names = F, col.names = T, quote = T, sep = \",\")\n"
   ]
  },
  {
   "cell_type": "code",
   "execution_count": null,
   "id": "390694b6",
   "metadata": {},
   "outputs": [],
   "source": []
  },
  {
   "cell_type": "code",
   "execution_count": null,
   "id": "9c8caecc",
   "metadata": {},
   "outputs": [],
   "source": [
    "\n",
    "## filter variants\n",
    "# DP>=1000 & AD>=10 & AD_FR/RR>=5\n",
    "## only white list variants\n",
    "fwrite(annot.whi_chip.v2.pairs[annot.whi_chip.v2.pairs$whitelist==\"TRUE\" & \n",
    "                               annot.whi_chip.v2.pairs$Blacklisted==0 & \n",
    "                               annot.whi_chip.v2.pairs$DP>=1000 & \n",
    "                               annot.whi_chip.v2.pairs$AD_ALT>=10 & \n",
    "                               annot.whi_chip.v2.pairs$ALT_FR>=5 & \n",
    "                               annot.whi_chip.v2.pairs$ALT_RR>=5, ], \n",
    "          paste0(\"WHI_\", batch_number,\".chip_variants.vaf001_DP1000_AD10_FR5.varOI_wl_noBlacklist.csv.gz\"), \n",
    "          row.names = F, col.names = T, quote = T, sep = \",\")\n"
   ]
  },
  {
   "cell_type": "code",
   "execution_count": null,
   "id": "28ecf96a",
   "metadata": {},
   "outputs": [],
   "source": [
    "\n",
    "# save.image(file=paste0(\"WHI_\", batch_number,\".chip_variants.2024_04_09.rda\"))\n",
    "\n",
    "# load(paste0(\"WHI_\", batch_number,\".chip_variants.2024_04_09.rda\"))\n"
   ]
  },
  {
   "cell_type": "code",
   "execution_count": null,
   "id": "107fdcc0",
   "metadata": {},
   "outputs": [],
   "source": [
    "annot.whi_chip.v2.pairs.dp1kad10fr5noblk <- annot.whi_chip.v2.pairs[annot.whi_chip.v2.pairs$whitelist==\"TRUE\" & \n",
    "                               annot.whi_chip.v2.pairs$Blacklisted==0 & \n",
    "                               annot.whi_chip.v2.pairs$DP>=1000 & \n",
    "                               annot.whi_chip.v2.pairs$AD_ALT>=10 & \n",
    "                               annot.whi_chip.v2.pairs$ALT_FR>=5 & \n",
    "                               annot.whi_chip.v2.pairs$ALT_RR>=5, ]\n",
    "\n",
    "\n",
    "sort(table(annot.whi_chip.v2.pairs.dp1kad10fr5noblk$CHROM_POS_REF_ALT[annot.whi_chip.v2.pairs.dp1kad10fr5noblk$whitelist==\"TRUE\"]), \n",
    "     decreasing = T)"
   ]
  },
  {
   "cell_type": "code",
   "execution_count": null,
   "id": "141bb202",
   "metadata": {
    "scrolled": true
   },
   "outputs": [],
   "source": [
    "# Assuming df is your data frame and xvar is the column you're interested in\n",
    "subset_df <- subset(annot.whi_chip.v2.pairs.dp1kad10fr5noblk, \n",
    "                    !(annot.whi_chip.v2.pairs.dp1kad10fr5noblk$CHROM_POS_REF_ALT %in% \n",
    "                      c(\"17_7577094_G_A\", \"2_25469945_C_T\", \"17_58740376_G_A\", \n",
    "                        \"17_7578406_C_T\", \"2_25463536_C_T\", \"4_106190819_G_A\", \n",
    "                       \"2_25469939_G_A\", \"17_7574018_G_A\")) | \n",
    "                    (annot.whi_chip.v2.pairs.dp1kad10fr5noblk$CHROM_POS_REF_ALT == \"17_58740376_G_A\"  & \n",
    "                     annot.whi_chip.v2.pairs.dp1kad10fr5noblk$VAF >= 0.01) | \n",
    "                    \n",
    "                    (annot.whi_chip.v2.pairs.dp1kad10fr5noblk$CHROM_POS_REF_ALT == \"17_7577094_G_A\"  & \n",
    "                     annot.whi_chip.v2.pairs.dp1kad10fr5noblk$Sample_Group ==\"whi_plate155_WHI_Plate155_B8:whi_plate155_WHI_Plate155_F4\")\n",
    "                    |\n",
    "                   \n",
    "                    (annot.whi_chip.v2.pairs.dp1kad10fr5noblk$CHROM_POS_REF_ALT == \"17_7578406_C_T\"  & \n",
    "                     annot.whi_chip.v2.pairs.dp1kad10fr5noblk$VAF >= 0.01) |\n",
    "                   \n",
    "                    (annot.whi_chip.v2.pairs.dp1kad10fr5noblk$CHROM_POS_REF_ALT == \"4_106190819_G_A\"  & \n",
    "                     annot.whi_chip.v2.pairs.dp1kad10fr5noblk$VAF >= 0.01) |\n",
    "                   \n",
    "                    (annot.whi_chip.v2.pairs.dp1kad10fr5noblk$CHROM_POS_REF_ALT == \"2_25469939_G_A\"  & \n",
    "                     annot.whi_chip.v2.pairs.dp1kad10fr5noblk$VAF >= 0.01) |\n",
    "                   \n",
    "                    (annot.whi_chip.v2.pairs.dp1kad10fr5noblk$CHROM_POS_REF_ALT == \"17_7574018_G_A\"  & \n",
    "                     annot.whi_chip.v2.pairs.dp1kad10fr5noblk$Sample_Group ==\"whi_plate182_WHI_182_B8:whi_plate182_WHI_182_F7\") \n",
    "                   )\n",
    "\n",
    "\n",
    "\n",
    "str(subset_df)\n"
   ]
  },
  {
   "cell_type": "code",
   "execution_count": null,
   "id": "0d09bcb4",
   "metadata": {},
   "outputs": [],
   "source": [
    "names(subset_df)\n",
    "ncol(subset_df)"
   ]
  },
  {
   "cell_type": "code",
   "execution_count": null,
   "id": "bc04a988",
   "metadata": {},
   "outputs": [],
   "source": [
    "fwrite(subset_df[, c('Sampleid','CHROM_POS_REF_ALT','CHROM','POS','REF','ALT','VEP_Annot','DP',\n",
    "                     'VAF','DP4','REF_FR','REF_RR','ALT_FR','ALT_RR','AD_REF','AD_ALT','Gene.refGene',\n",
    "                     'Func.refGene','ExonicFunc.refGene','AAChange.refGene','Accession','transcriptOI',\n",
    "                     'NonsynOI','cosmic96_coding','AF_raw','context','groupname','nsamps','Sample_Group')], \n",
    "          paste0(\"WHI_\", batch_number,\".chip_variants.vaf001_DP1000_AD10_FR5.varOI_wl_noBlacklist.qcd.csv.gz\"), \n",
    "          row.names = F, col.names = T, quote = T, sep = \",\")\n"
   ]
  },
  {
   "cell_type": "code",
   "execution_count": null,
   "id": "fcbd6879",
   "metadata": {},
   "outputs": [],
   "source": []
  },
  {
   "cell_type": "code",
   "execution_count": null,
   "id": "0b4b2cd1",
   "metadata": {},
   "outputs": [],
   "source": []
  },
  {
   "cell_type": "code",
   "execution_count": null,
   "id": "ef2d0a5a",
   "metadata": {},
   "outputs": [],
   "source": [
    "names(annot.whi_chip.v2)"
   ]
  },
  {
   "cell_type": "code",
   "execution_count": null,
   "id": "4036c514",
   "metadata": {
    "scrolled": true
   },
   "outputs": [],
   "source": [
    "str(annot.whi_chip.v2)"
   ]
  },
  {
   "cell_type": "code",
   "execution_count": null,
   "id": "e8fe59ba",
   "metadata": {},
   "outputs": [],
   "source": [
    "summary(annot.whi_chip.v2$AD_ALT)\n",
    "\n",
    "summary(annot.whi_chip.v2$ALT_FR)\n",
    "\n",
    "summary(annot.whi_chip.v2$ALT_RR)"
   ]
  },
  {
   "cell_type": "code",
   "execution_count": null,
   "id": "d42564d3",
   "metadata": {},
   "outputs": [],
   "source": [
    "summary(annot.whi_chip.v2$ALT_FR /annot.whi_chip.v2$ALT_RR)\n",
    "\n",
    "table((annot.whi_chip.v2$ALT_FR/annot.whi_chip.v2$ALT_RR)>0.5)\n",
    "\n",
    "summary(annot.whi_chip.v2$ALT_FR[annot.whi_chip.v2$AD_ALT>=50] /annot.whi_chip.v2$ALT_RR[annot.whi_chip.v2$AD_ALT>=50])\n"
   ]
  },
  {
   "cell_type": "code",
   "execution_count": null,
   "id": "b5a02ffd",
   "metadata": {
    "scrolled": true
   },
   "outputs": [],
   "source": [
    "boxplot(annot.whi_chip.v2$DP ~ annot.whi_chip.v2$Gene.refGene, las=2, log10=\"y\")\n",
    "\n",
    "# annot.whi_chip.v2 %>% summarise(DP, Gene.refGene)\n",
    "\n",
    "# Group by Gene and summarise DP\n",
    "summary <- annot.whi_chip.v2 %>%\n",
    "  group_by(Gene.refGene) %>%\n",
    "  summarise(\n",
    "    count = n(),  # number of rows per category\n",
    "    mean = mean(DP),  # mean of values per category\n",
    "    median = median(DP),  # sum of values per category\n",
    "    min = min(DP),  # minimum value per category\n",
    "    max = max(DP)  # maximum value per category\n",
    "  )\n",
    "\n",
    "print(summary)\n",
    "\n",
    "annot.whi_chip.v2 %>% filter(DP>=1000 & AD_ALT>=50) %>%\n",
    "  group_by(Gene.refGene) %>%\n",
    "  summarise(\n",
    "    count = n(),  # number of rows per category\n",
    "    mean = mean(DP),  # mean of values per category\n",
    "    median = median(DP),  # sum of values per category\n",
    "    min = min(DP),  # minimum value per category\n",
    "    max = max(DP)  # maximum value per category\n",
    "  )\n"
   ]
  },
  {
   "cell_type": "code",
   "execution_count": null,
   "id": "b187285d",
   "metadata": {},
   "outputs": [],
   "source": [
    "summary(annot.whi_chip.v2$DP)\n",
    "\n",
    "table(annot.whi_chip.v2$DP>=1000)\n",
    "\n",
    "table(annot.whi_chip.v2$AD_ALT>=10 & annot.whi_chip.v2$ALT_FR>=5 & annot.whi_chip.v2$ALT_RR>=5)\n",
    "\n",
    "table(annot.whi_chip.v2$DP>=100 & annot.whi_chip.v2$AD_ALT>=10 & annot.whi_chip.v2$ALT_FR>=5 & annot.whi_chip.v2$ALT_RR>=5)\n",
    "\n",
    "table(annot.whi_chip.v2$DP>=1000 & annot.whi_chip.v2$AD_ALT>=10 & annot.whi_chip.v2$ALT_FR>=5 & annot.whi_chip.v2$ALT_RR>=5)\n",
    "\n",
    "table(annot.whi_chip.v2$DP>=1000 & annot.whi_chip.v2$AD_ALT>=50 & annot.whi_chip.v2$ALT_FR>=5 & annot.whi_chip.v2$ALT_RR>=5)\n",
    "\n",
    "\n"
   ]
  },
  {
   "cell_type": "code",
   "execution_count": null,
   "id": "b23cd75c",
   "metadata": {},
   "outputs": [],
   "source": [
    "sort(table(annot.whi_chip.v2$Gene.refGene), decreasing=T)\n",
    "\n",
    "sort(table(annot.whi_chip.v2$NonsynOI[annot.whi_chip.v2$Gene.refGene==\"JAK2\"]), decreasing = T )\n",
    "\n",
    "table(annot.whi_chip.v2$NonsynOI[annot.whi_chip.v2$Gene.refGene==\"DNMT3A\" & \n",
    "                                 grepl(pattern = \"R882\", x=annot.whi_chip.v2$NonsynOI)] )\n",
    "\n",
    "head(sort(table(annot.whi_chip.v2$NonsynOI[annot.whi_chip.v2$Gene.refGene==\"DNMT3A\"]), decreasing = T ),10)\n",
    "\n",
    "head(sort(table(annot.whi_chip.v2$NonsynOI[annot.whi_chip.v2$Gene.refGene==\"SF3B1\"]), decreasing = T ),20)\n",
    "\n",
    "head(sort(table(annot.whi_chip.v2$NonsynOI[annot.whi_chip.v2$Gene.refGene==\"SRSF2\"]), decreasing = T ),10)\n",
    "\n",
    "head(sort(table(annot.whi_chip.v2$NonsynOI[annot.whi_chip.v2$Gene.refGene==\"TP53\"]), decreasing = T ),10)"
   ]
  },
  {
   "cell_type": "code",
   "execution_count": null,
   "id": "05bae80c",
   "metadata": {},
   "outputs": [],
   "source": [
    "table(annot.whi_chip.v2$NonsynOI[annot.whi_chip.v2$Gene.refGene==\"JAK2\" & \n",
    "                                 annot.whi_chip.v2$DP>=100 & \n",
    "                                 annot.whi_chip.v2$AD_ALT>=10 & \n",
    "                                 annot.whi_chip.v2$ALT_FR>=5 & \n",
    "                                 annot.whi_chip.v2$ALT_RR>=5])\n",
    "\n",
    "table(annot.whi_chip.v2$NonsynOI[annot.whi_chip.v2$Gene.refGene==\"JAK2\" & \n",
    "                                 annot.whi_chip.v2$DP>=1000 & \n",
    "                                 annot.whi_chip.v2$AD_ALT>=50 & \n",
    "                                 annot.whi_chip.v2$ALT_FR>=5 & \n",
    "                                 annot.whi_chip.v2$ALT_RR>=5])"
   ]
  },
  {
   "cell_type": "code",
   "execution_count": null,
   "id": "79082720",
   "metadata": {},
   "outputs": [],
   "source": [
    "sort(table(annot.whi_chip.v2$CHROM_POS_REF_ALT[annot.whi_chip.v2$Blacklisted==0 &\n",
    "                                               annot.whi_chip.v2$whitelist==\"TRUE\" & \n",
    "                                               annot.whi_chip.v2$DP>=100 & \n",
    "                                               annot.whi_chip.v2$AD_ALT>=10 & \n",
    "                                               annot.whi_chip.v2$FR_ALT>=5 & \n",
    "                                               annot.whi_chip.v2$RR_ALT>=5]), \n",
    "     decreasing = T)"
   ]
  },
  {
   "cell_type": "code",
   "execution_count": null,
   "id": "0617c486",
   "metadata": {},
   "outputs": [],
   "source": [
    "sort(table(annot.whi_chip.v2$CHROM_POS_REF_ALT[annot.whi_chip.v2$Blacklisted==0 &\n",
    "                                               annot.whi_chip.v2$whitelist==\"TRUE\" & \n",
    "                                               annot.whi_chip.v2$DP>=1000 & \n",
    "                                               annot.whi_chip.v2$AD_ALT>=50 & \n",
    "                                               annot.whi_chip.v2$FR_ALT>=5 & \n",
    "                                               annot.whi_chip.v2$RR_ALT>=5]), \n",
    "     decreasing = T)"
   ]
  },
  {
   "cell_type": "code",
   "execution_count": null,
   "id": "fe39e5e5",
   "metadata": {},
   "outputs": [],
   "source": [
    "\n",
    "## all w/o blacklist\n",
    "fwrite(annot.whi_chip.v2, \n",
    "       paste0(\"WHI_\",batch_number,\".chip_variants.vaf001_DP50_AD5_FR2.all_putative_CHIP_annotBlacklist.AD_FR_RR.csv.gz\"), \n",
    "       row.names = F, col.names = T, quote = T, sep = \",\")\n",
    "\n",
    "\n",
    "## only white list variants\n",
    "fwrite(annot.whi_chip.v2[annot.whi_chip.v2$whitelist==\"TRUE\", ], \n",
    "          paste0(\"WHI_\", batch_number,\".chip_variants.vaf001_DP50_AD5_FR2.varOI_wl_annotBlacklist.AD_FR_RR.csv.gz\"), \n",
    "          row.names = F, col.names = T, quote = T, sep = \",\")\n"
   ]
  }
 ],
 "metadata": {
  "kernelspec": {
   "display_name": "R",
   "language": "R",
   "name": "ir"
  },
  "language_info": {
   "codemirror_mode": "r",
   "file_extension": ".r",
   "mimetype": "text/x-r-source",
   "name": "R",
   "pygments_lexer": "r",
   "version": "4.1.0"
  }
 },
 "nbformat": 4,
 "nbformat_minor": 5
}
