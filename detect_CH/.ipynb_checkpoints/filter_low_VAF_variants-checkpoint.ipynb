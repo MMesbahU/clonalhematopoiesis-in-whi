{
 "cells": [
  {
   "cell_type": "code",
   "execution_count": null,
   "id": "924f34c5",
   "metadata": {},
   "outputs": [],
   "source": [
    "library(data.table)\n",
    "\n",
    "library(dplyr)\n",
    "\n",
    "library(tidyr)\n",
    "\n",
    "library(readxl)\n",
    "\n",
    "library(stringr)\n",
    "\n",
    "library(ggplot2)"
   ]
  },
  {
   "cell_type": "code",
   "execution_count": null,
   "id": "35871a32",
   "metadata": {
    "scrolled": true
   },
   "outputs": [],
   "source": [
    "whi_chip <- fread(\"whimips_longitudinal_20240322/WHI_20240322.chip_variants.vaf001_DP1000_AD10_FR5.varOI_wl_noBlacklist.qcd_reshaped_JH_2024-04-18.csv\", \n",
    "                  header=T, sep=\",\")\n",
    "\n",
    "ariel_whi_chip <- fread(\"whimips_longitudinal_20240322/WHI_20240322.chip_variants.vaf001_DP1000_AD10_FR5.varOI_wl_noBlacklist.qcd_reshaped_JH_2024-04-26_LAX.csv\", \n",
    "                  header=T, sep=\",\")\n",
    "\n",
    "str(whi_chip)\n",
    "str(ariel_whi_chip)"
   ]
  },
  {
   "cell_type": "code",
   "execution_count": null,
   "id": "d15bd107",
   "metadata": {},
   "outputs": [],
   "source": [
    "sort(table(ariel_whi_chip$CHROM_POS_REF_ALT[ariel_whi_chip$`potential artifacts`!=\"\"]), decreasing = T)\n",
    "      \n",
    "list_vars <- names(sort(table(ariel_whi_chip$CHROM_POS_REF_ALT[ariel_whi_chip$`potential artifacts`!=\"\"] ), decreasing = T))\n",
    "      \n",
    "list_vars      "
   ]
  },
  {
   "cell_type": "code",
   "execution_count": null,
   "id": "bfc7e3d0",
   "metadata": {},
   "outputs": [],
   "source": [
    "whi_chip$varID_commonid <- paste(whi_chip$CHROM_POS_REF_ALT, whi_chip$Common_id, sep=\"_\")\n",
    "\n",
    "table(table(whi_chip$varID_commonid))"
   ]
  },
  {
   "cell_type": "code",
   "execution_count": null,
   "id": "b7b9a693",
   "metadata": {},
   "outputs": [],
   "source": [
    "var_dupl <- as.data.frame(table(whi_chip$varID_commonid), stringsAsFactors = T)\n",
    "\n",
    "head(var_dupl)"
   ]
  },
  {
   "cell_type": "code",
   "execution_count": null,
   "id": "12741873",
   "metadata": {},
   "outputs": [],
   "source": [
    "head(var_dupl[var_dupl$Freq>1,])"
   ]
  },
  {
   "cell_type": "code",
   "execution_count": null,
   "id": "82298666",
   "metadata": {
    "scrolled": true
   },
   "outputs": [],
   "source": [
    "####### Load CHIP annotations\n",
    "all_putstive_chip_var <- fread(\"whimips_longitudinal_20240322/all_putative_CHIP.whimips_longitudinal_20240322.tsv\")\n",
    "head(all_putstive_chip_var)\n",
    "str(all_putstive_chip_var)\n",
    "\n",
    "table(table(all_putstive_chip_var$chr_pos_ref_alt))"
   ]
  },
  {
   "cell_type": "code",
   "execution_count": null,
   "id": "4905bdbd",
   "metadata": {
    "scrolled": true
   },
   "outputs": [],
   "source": [
    "whi_chip_annot <- merge(ariel_whi_chip, \n",
    "                        all_putstive_chip_var[, c(1,7:21)], \n",
    "                        by.x=\"CHROM_POS_REF_ALT\", \n",
    "                        by.y=\"chr_pos_ref_alt\", \n",
    "                        all.x=T)\n",
    "\n",
    "str(whi_chip_annot)"
   ]
  },
  {
   "cell_type": "code",
   "execution_count": null,
   "id": "c4cf1c33",
   "metadata": {},
   "outputs": [],
   "source": []
  },
  {
   "cell_type": "code",
   "execution_count": null,
   "id": "5012304b",
   "metadata": {},
   "outputs": [],
   "source": [
    "whi_chip_annot %>% \n",
    "filter(CHROM_POS_REF_ALT %in% names(head(sort(table( whi_chip_annot$CHROM_POS_REF_ALT), decreasing = T),20))) %>% \n",
    "mutate(var_gene_mut=paste(CHROM_POS_REF_ALT, Gene.refGene, NonsynOI, sep=\":\")) %>% \n",
    "ggplot(data = ., aes(x = var_gene_mut, y = vaf.lls, \n",
    "                     color = Gene.refGene, \n",
    "                     shape = ExonicFunc.refGene)) +\n",
    "  geom_point(alpha = 0.5, size = 3) +\n",
    "  geom_hline(yintercept=0.02, color = \"grey\", linetype=\"dashed\") +\n",
    "  scale_y_log10() +\n",
    "  labs(y = \"VAF\", x = \"\", legend = \"Gene\") +\n",
    "  theme_bw() +\n",
    "  theme(axis.text.x = element_text(angle = 45,vjust=1,hjust=1,size = 10))\n",
    "\n",
    "\n",
    "whi_chip_annot %>% \n",
    "filter(CHROM_POS_REF_ALT %in% names(head(sort(table( whi_chip_annot$CHROM_POS_REF_ALT), decreasing = T),20))) %>% \n",
    "mutate(var_gene_mut=paste(CHROM_POS_REF_ALT, Gene.refGene, NonsynOI, sep=\":\")) %>% \n",
    "ggplot(data = ., aes(x = var_gene_mut, y = vaf.base, color = Gene.refGene, shape = ExonicFunc.refGene)) +\n",
    "  geom_point(alpha = 0.5, size = 3) +\n",
    "  geom_hline(yintercept=0.02, color = \"grey\", linetype=\"dashed\") +\n",
    "  scale_y_log10() +\n",
    "  labs(y = \"VAF\", x = \"\", legend = \"Gene\") +\n",
    "  theme_bw() +\n",
    "  theme(axis.text.x = element_text(angle = 45,vjust=1,hjust=1,size = 10))\n"
   ]
  },
  {
   "cell_type": "code",
   "execution_count": null,
   "id": "69c8f7ab",
   "metadata": {},
   "outputs": [],
   "source": [
    "head(sort(table(paste(whi_chip_annot$CHROM_POS_REF_ALT, \n",
    "                      whi_chip_annot$Gene.refGene, \n",
    "                      whi_chip_annot$NonsynOI, sep=\":\")), \n",
    "          decreasing = T),20)\n"
   ]
  },
  {
   "cell_type": "code",
   "execution_count": null,
   "id": "f0c7b99b",
   "metadata": {},
   "outputs": [],
   "source": [
    "## atrifacts\n",
    "summary(whi_chip_annot$vaf.base[whi_chip_annot$CHROM_POS_REF_ALT==\"17_7577121_G_A\"])\n",
    "## R882H\n",
    "summary(whi_chip_annot$vaf.base[whi_chip_annot$CHROM_POS_REF_ALT==\"2_25457242_C_T\"])\n",
    "## R882C\n",
    "summary(whi_chip_annot$vaf.base[whi_chip_annot$CHROM_POS_REF_ALT==\"2_25457243_G_A\"])\n",
    "# exempt \n",
    "# c(\"2_25463286_C_T\")\n",
    "summary(whi_chip_annot$vaf.base[whi_chip_annot$CHROM_POS_REF_ALT==\"4_106164917_G_A\"])\n",
    "\n",
    "summary(whi_chip_annot$vaf.lls[whi_chip_annot$CHROM_POS_REF_ALT==\"4_106164917_G_A\"])"
   ]
  },
  {
   "cell_type": "code",
   "execution_count": null,
   "id": "9be88d21",
   "metadata": {},
   "outputs": [],
   "source": [
    "\n",
    "boxplot(whi_chip_annot$vaf.base[whi_chip_annot$CHROM_POS_REF_ALT==\"2_25463181_C_T\"], \n",
    "        whi_chip_annot$vaf.lls[whi_chip_annot$CHROM_POS_REF_ALT==\"2_25463181_C_T\"], log=\"y\")\n",
    "\n"
   ]
  },
  {
   "cell_type": "code",
   "execution_count": null,
   "id": "548cd807",
   "metadata": {},
   "outputs": [],
   "source": [
    "table(whi_chip_annot$CHROM_POS_REF_ALT==\"17_7577121_G_A\"  & (whi_chip_annot$vaf.base<0.01 | whi_chip_annot$vaf.lls<0.01))\n"
   ]
  },
  {
   "cell_type": "code",
   "execution_count": null,
   "id": "fa744018",
   "metadata": {
    "scrolled": true
   },
   "outputs": [],
   "source": [
    "## VAF> 1%\n",
    "\n",
    "table(whi_chip_annot$vaf.lls>=0.01 & whi_chip_annot$CHROM_POS_REF_ALT==\"17_7577121_G_A\" | (whi_chip_annot$vaf.base>=0.01 & whi_chip_annot$CHROM_POS_REF_ALT==\"17_7577121_G_A\"))\n",
    "\n",
    "table(whi_chip_annot$vaf.lls>=0.01 & whi_chip_annot$CHROM_POS_REF_ALT==\"17_58740836_C_T\" | (whi_chip_annot$vaf.base>=0.01 & whi_chip_annot$CHROM_POS_REF_ALT==\"17_58740836_C_T\"))\n",
    "\n",
    "table(whi_chip_annot$vaf.lls>=0.01 & whi_chip_annot$CHROM_POS_REF_ALT==\"17_7578517_G_A\" | (whi_chip_annot$vaf.base>=0.01 & whi_chip_annot$CHROM_POS_REF_ALT==\"17_7578517_G_A\"))\n",
    "\n",
    "table(whi_chip_annot$vaf.lls>=0.01 & whi_chip_annot$CHROM_POS_REF_ALT==\"17_7577538_C_T\" | (whi_chip_annot$vaf.base>=0.01 & whi_chip_annot$CHROM_POS_REF_ALT==\"17_7577538_C_T\"))\n",
    "\n",
    "table(whi_chip_annot$vaf.lls>=0.01 & whi_chip_annot$CHROM_POS_REF_ALT==\"2_25470556_C_T\" | (whi_chip_annot$vaf.base>=0.01 & whi_chip_annot$CHROM_POS_REF_ALT==\"2_25470556_C_T\"))\n",
    "\n",
    "table(whi_chip_annot$vaf.lls>=0.01 & whi_chip_annot$CHROM_POS_REF_ALT==\"2_25467072_C_T\" | (whi_chip_annot$vaf.base>=0.01 & whi_chip_annot$CHROM_POS_REF_ALT==\"2_25467072_C_T\"))\n",
    "\n",
    "table(whi_chip_annot$vaf.lls>=0.01 & whi_chip_annot$CHROM_POS_REF_ALT==\"2_25463173_C_T\" | (whi_chip_annot$vaf.base>=0.01 & whi_chip_annot$CHROM_POS_REF_ALT==\"2_25463173_C_T\"))\n",
    "\n",
    "\n",
    "table(whi_chip_annot$vaf.lls>=0.01 & whi_chip_annot$CHROM_POS_REF_ALT==\"4_106196771_C_T\" | (whi_chip_annot$vaf.base>=0.01 & whi_chip_annot$CHROM_POS_REF_ALT==\"4_106196771_C_T\"))\n",
    "\n",
    "table(whi_chip_annot$vaf.lls>=0.01 & whi_chip_annot$CHROM_POS_REF_ALT==\"2_25469564_G_A\" | (whi_chip_annot$vaf.base>=0.01 & whi_chip_annot$CHROM_POS_REF_ALT==\"2_25469564_G_A\"))\n",
    "table(whi_chip_annot$vaf.lls>=0.01 & whi_chip_annot$CHROM_POS_REF_ALT==\"6_43322515_G_A\" | (whi_chip_annot$vaf.base>=0.01 & whi_chip_annot$CHROM_POS_REF_ALT==\"6_43322515_G_A\"))\n",
    "\n",
    "conditions1 <- c(\"17_7577121_G_A\", \n",
    "                \"17_58740836_C_T\", \n",
    "                \"17_7578517_G_A\", \n",
    "                \"17_7577538_C_T\", \n",
    "                \"2_25470556_C_T\", \n",
    "                \"2_25467072_C_T\", \n",
    "                \"2_25463173_C_T\", \n",
    "                \"4_106196771_C_T\", \n",
    "                \"2_25469564_G_A\", \n",
    "                \"6_43322515_G_A\"\n",
    "                )\n",
    "# Initialize a logical vector to store the conditions\n",
    "condition_vector1 <- rep(FALSE, nrow(whi_chip_annot))\n",
    "\n",
    "# Loop over the conditions and add the results of the conditions to the condition_vector\n",
    "for (condition in conditions1) {\n",
    "  condition_vector1 <- condition_vector1 | \n",
    "    ((whi_chip_annot$vaf.lls >= 0.01 & whi_chip_annot$CHROM_POS_REF_ALT == condition) | \n",
    "    (whi_chip_annot$vaf.base >= 0.01 & whi_chip_annot$CHROM_POS_REF_ALT == condition))\n",
    "}\n",
    "\n",
    "# Use filter to keep rows where the condition_vector is TRUE\n",
    "df_filtered1 <- whi_chip_annot[condition_vector1, ]\n",
    "\n",
    "str(df_filtered1)\n",
    "\n",
    "sort(table(df_filtered1$CHROM_POS_REF_ALT), decreasing = T)\n"
   ]
  },
  {
   "cell_type": "code",
   "execution_count": null,
   "id": "f1cd5a0e",
   "metadata": {},
   "outputs": [],
   "source": []
  },
  {
   "cell_type": "code",
   "execution_count": null,
   "id": "6a1dbb6f",
   "metadata": {
    "scrolled": true
   },
   "outputs": [],
   "source": [
    "#VAF>0.5%\n",
    "## sample to filter\n",
    "\n",
    "table(whi_chip_annot$vaf.lls>=0.005 & whi_chip_annot$CHROM_POS_REF_ALT==\"20_31021211_C_T\" | (whi_chip_annot$vaf.base>=0.005 & whi_chip_annot$CHROM_POS_REF_ALT==\"20_31021211_C_T\"))\n",
    "table(whi_chip_annot$vaf.lls>=0.005 & whi_chip_annot$CHROM_POS_REF_ALT==\"6_43323607_G_A\" | (whi_chip_annot$vaf.base>=0.005 & whi_chip_annot$CHROM_POS_REF_ALT==\"6_43323607_G_A\"))\n",
    "table(whi_chip_annot$vaf.lls>=0.005 & whi_chip_annot$CHROM_POS_REF_ALT==\"17_7577539_G_A\" | (whi_chip_annot$vaf.base>=0.005 & whi_chip_annot$CHROM_POS_REF_ALT==\"17_7577539_G_A\"))\n",
    "table(whi_chip_annot$vaf.lls>=0.005 & whi_chip_annot$CHROM_POS_REF_ALT==\"4_106190864_C_T\" | (whi_chip_annot$vaf.base>=0.005 & whi_chip_annot$CHROM_POS_REF_ALT==\"4_106190864_C_T\"))\n",
    "table(whi_chip_annot$vaf.lls>=0.005 & whi_chip_annot$CHROM_POS_REF_ALT==\"4_106164917_G_A\" | (whi_chip_annot$vaf.base>=0.005 & whi_chip_annot$CHROM_POS_REF_ALT==\"4_106164917_G_A\"))\n",
    "\n",
    "conditions2 <- c(\"4_106190864_C_T\", \n",
    "                \"4_106164917_G_A\", \n",
    "                \"6_43323607_G_A\", \n",
    "                \"17_7577539_G_A\", \n",
    "                \"20_31021211_C_T\")\n",
    "# Initialize a logical vector to store the conditions\n",
    "condition_vector2 <- rep(FALSE, nrow(whi_chip_annot))\n",
    "\n",
    "# Loop over the conditions and add the results of the conditions to the condition_vector\n",
    "for (condition in conditions2) {\n",
    "  condition_vector2 <- condition_vector2 | \n",
    "    ((whi_chip_annot$vaf.lls >= 0.005 & whi_chip_annot$CHROM_POS_REF_ALT == condition) | \n",
    "    (whi_chip_annot$vaf.base >= 0.005 & whi_chip_annot$CHROM_POS_REF_ALT == condition))\n",
    "}\n",
    "\n",
    "# Use filter to keep rows where the condition_vector is TRUE\n",
    "df_filtered2 <- whi_chip_annot[condition_vector2, ]\n",
    "\n",
    "str(df_filtered2)\n",
    "\n",
    "sort(table(df_filtered2$CHROM_POS_REF_ALT), decreasing = T)\n",
    "\n"
   ]
  },
  {
   "cell_type": "code",
   "execution_count": null,
   "id": "57a7770f",
   "metadata": {},
   "outputs": [],
   "source": []
  },
  {
   "cell_type": "code",
   "execution_count": null,
   "id": "322717f1",
   "metadata": {
    "scrolled": true
   },
   "outputs": [],
   "source": [
    "# 0.7%\n",
    "table(whi_chip_annot$vaf.lls>=0.007 & whi_chip_annot$CHROM_POS_REF_ALT==\"2_25470551_C_T\" | (whi_chip_annot$vaf.base>=0.007 & whi_chip_annot$CHROM_POS_REF_ALT==\"2_25470551_C_T\"))\n",
    "table(whi_chip_annot$vaf.lls>=0.007 & whi_chip_annot$CHROM_POS_REF_ALT==\"2_25470555_G_A\" | (whi_chip_annot$vaf.base>=0.007 & whi_chip_annot$CHROM_POS_REF_ALT==\"2_25470555_G_A\"))\n",
    "\n",
    "conditions3 <- c(\"2_25470551_C_T\", \n",
    "                \"2_25470555_G_A\")\n",
    "# Initialize a logical vector to store the conditions\n",
    "condition_vector3 <- rep(FALSE, nrow(whi_chip_annot))\n",
    "\n",
    "# Loop over the conditions and add the results of the conditions to the condition_vector\n",
    "for (condition in conditions3) {\n",
    "  condition_vector3 <- condition_vector3 | \n",
    "    ((whi_chip_annot$vaf.lls >= 0.007 & whi_chip_annot$CHROM_POS_REF_ALT == condition) | \n",
    "    (whi_chip_annot$vaf.base >= 0.007 & whi_chip_annot$CHROM_POS_REF_ALT == condition))\n",
    "}\n",
    "\n",
    "# Use filter to keep rows where the condition_vector is TRUE\n",
    "df_filtered3 <- whi_chip_annot[condition_vector3, ]\n",
    "\n",
    "str(df_filtered3)\n",
    "\n",
    "sort(table(df_filtered3$CHROM_POS_REF_ALT), decreasing = T)\n"
   ]
  },
  {
   "cell_type": "code",
   "execution_count": null,
   "id": "b17de1cb",
   "metadata": {},
   "outputs": [],
   "source": []
  },
  {
   "cell_type": "code",
   "execution_count": null,
   "id": "b8ea5d13",
   "metadata": {
    "scrolled": true
   },
   "outputs": [],
   "source": [
    "# qcd_lowVAFvars \n",
    "\n",
    "df_filtered <- as.data.frame(rbind(df_filtered1, df_filtered2, df_filtered3), stringsAsFactors = F) \n",
    "str(df_filtered)\n",
    "\n",
    "sort(table(df_filtered$CHROM_POS_REF_ALT),decreasing = T)"
   ]
  },
  {
   "cell_type": "code",
   "execution_count": null,
   "id": "ca82daf4",
   "metadata": {},
   "outputs": [],
   "source": []
  },
  {
   "cell_type": "code",
   "execution_count": null,
   "id": "6ab90f5f",
   "metadata": {
    "scrolled": true
   },
   "outputs": [],
   "source": [
    "## exclude all variants in the list\n",
    "\n",
    "nrow(whi_chip_annot)\n",
    "\n",
    "table(whi_chip_annot$CHROM_POS_REF_ALT %in% c(conditions1,conditions2,conditions3) )\n",
    "\n",
    "qcd_whi_chip_annot <- subset(whi_chip_annot, \n",
    "                             !(whi_chip_annot$CHROM_POS_REF_ALT %in% c(conditions1,conditions2,conditions3) ) )\n",
    "\n",
    "str(qcd_whi_chip_annot)"
   ]
  },
  {
   "cell_type": "code",
   "execution_count": null,
   "id": "5d9360a1",
   "metadata": {},
   "outputs": [],
   "source": []
  },
  {
   "cell_type": "code",
   "execution_count": null,
   "id": "52323ed1",
   "metadata": {
    "scrolled": true
   },
   "outputs": [],
   "source": [
    "## combine with filtered variants\n",
    "\n",
    "qcd_whi_chip_annot_filt <- as.data.frame(rbind(qcd_whi_chip_annot, df_filtered), stringsAsFactors = F)\n",
    "\n",
    "str(qcd_whi_chip_annot_filt)"
   ]
  },
  {
   "cell_type": "code",
   "execution_count": null,
   "id": "bcd7534e",
   "metadata": {},
   "outputs": [],
   "source": []
  },
  {
   "cell_type": "code",
   "execution_count": null,
   "id": "efcf0066",
   "metadata": {},
   "outputs": [],
   "source": [
    "head(sort(table(paste(qcd_whi_chip_annot_filt$CHROM_POS_REF_ALT, \n",
    "                      qcd_whi_chip_annot_filt$Gene.refGene, \n",
    "                      qcd_whi_chip_annot_filt$NonsynOI, sep=\":\")), \n",
    "          decreasing = T),20)\n"
   ]
  },
  {
   "cell_type": "code",
   "execution_count": null,
   "id": "9e6ba037",
   "metadata": {},
   "outputs": [],
   "source": []
  },
  {
   "cell_type": "code",
   "execution_count": null,
   "id": "f850ce68",
   "metadata": {
    "scrolled": true
   },
   "outputs": [],
   "source": [
    "## VAF> 0.1%\n",
    "table(qcd_whi_chip_annot_filt$vaf.lls>=0.004 & qcd_whi_chip_annot_filt$CHROM_POS_REF_ALT==\"2_25457242_C_T\" | (whi_chip_annot$vaf.base>=0.004 & whi_chip_annot$CHROM_POS_REF_ALT==\"2_25457242_C_T\"))\n",
    "table(qcd_whi_chip_annot_filt$vaf.lls>=0.004 & qcd_whi_chip_annot_filt$CHROM_POS_REF_ALT==\"2_25457243_G_A\" | (whi_chip_annot$vaf.base>=0.004 & whi_chip_annot$CHROM_POS_REF_ALT==\"2_25457243_G_A\"))\n",
    "\n",
    "table(whi_chip_annot$vaf.lls>=0.004 & whi_chip_annot$CHROM_POS_REF_ALT==\"2_25463286_C_T\" | (whi_chip_annot$vaf.base>=0.004 & whi_chip_annot$CHROM_POS_REF_ALT==\"2_25463286_C_T\"))\n",
    "table(whi_chip_annot$vaf.lls>=0.003 & whi_chip_annot$CHROM_POS_REF_ALT==\"2_25463586_C_T\" | (whi_chip_annot$vaf.base>=0.003 & whi_chip_annot$CHROM_POS_REF_ALT==\"2_25463586_C_T\"))\n",
    "table(whi_chip_annot$vaf.lls>=0.003 & whi_chip_annot$CHROM_POS_REF_ALT==\"2_25463181_C_T\" | (whi_chip_annot$vaf.base>=0.003 & whi_chip_annot$CHROM_POS_REF_ALT==\"2_25463181_C_T\"))\n",
    "table(whi_chip_annot$vaf.lls>=0.003 & whi_chip_annot$CHROM_POS_REF_ALT==\"2_25463247_C_T\" | (whi_chip_annot$vaf.base>=0.003 & whi_chip_annot$CHROM_POS_REF_ALT==\"2_25463247_C_T\"))\n",
    "table(whi_chip_annot$vaf.lls>=0.003 & whi_chip_annot$CHROM_POS_REF_ALT==\"2_25467466_C_T\" | (whi_chip_annot$vaf.base>=0.003 & whi_chip_annot$CHROM_POS_REF_ALT==\"2_25467466_C_T\"))\n",
    "\n"
   ]
  },
  {
   "cell_type": "code",
   "execution_count": null,
   "id": "e431b3e4",
   "metadata": {},
   "outputs": [],
   "source": []
  },
  {
   "cell_type": "code",
   "execution_count": null,
   "id": "bfec3f6a",
   "metadata": {},
   "outputs": [],
   "source": [
    "# save.image(file=\"whimips_longitudinal_20240322/qc_lowfreq_var.20240508.rda\")\n"
   ]
  },
  {
   "cell_type": "code",
   "execution_count": null,
   "id": "a7c63dca",
   "metadata": {},
   "outputs": [],
   "source": [
    "\n",
    "names(qcd_whi_chip_annot_filt)"
   ]
  },
  {
   "cell_type": "code",
   "execution_count": null,
   "id": "3407f977",
   "metadata": {},
   "outputs": [],
   "source": []
  },
  {
   "cell_type": "code",
   "execution_count": null,
   "id": "9a9f2869",
   "metadata": {},
   "outputs": [],
   "source": [
    "## file to share\n",
    "fwrite(qcd_whi_chip_annot_filt, \n",
    "       file=\"whimips_longitudinal_20240322/WHI_20240322.chip_variants.vaf001_DP1000_AD10_FR5.varOI_wl_noBlacklist.qcd_reshaped_JH_2024-04-18.qcdlowvaf_20240508.csv\", col.name=T, row.names=F, \n",
    "       sep=\",\", na=\"NA\")\n",
    "\n"
   ]
  },
  {
   "cell_type": "code",
   "execution_count": null,
   "id": "db4a2ef1",
   "metadata": {},
   "outputs": [],
   "source": []
  },
  {
   "cell_type": "code",
   "execution_count": null,
   "id": "1ceb4db4",
   "metadata": {},
   "outputs": [],
   "source": []
  },
  {
   "cell_type": "code",
   "execution_count": null,
   "id": "b481bc7e",
   "metadata": {},
   "outputs": [],
   "source": []
  },
  {
   "cell_type": "code",
   "execution_count": null,
   "id": "3ed83c11",
   "metadata": {},
   "outputs": [],
   "source": []
  },
  {
   "cell_type": "code",
   "execution_count": null,
   "id": "43e554cd",
   "metadata": {},
   "outputs": [],
   "source": [
    "head(sort(table(paste(whi_chip_annot$CHROM_POS_REF_ALT[whi_chip_annot$CHROM_POS_REF_ALT %in% list_vars], \n",
    "                      whi_chip_annot$Gene.refGene[whi_chip_annot$CHROM_POS_REF_ALT%in%list_vars], \n",
    "                      whi_chip_annot$NonsynOI[whi_chip_annot$CHROM_POS_REF_ALT%in%list_vars], sep=\":\")), \n",
    "          decreasing = T),20)\n"
   ]
  },
  {
   "cell_type": "code",
   "execution_count": null,
   "id": "20e4b368",
   "metadata": {
    "scrolled": true
   },
   "outputs": [],
   "source": [
    "head(sort(table(whi_chip$CHROM_POS_REF_ALT), decreasing = T),100)"
   ]
  },
  {
   "cell_type": "code",
   "execution_count": null,
   "id": "0c305ff6",
   "metadata": {},
   "outputs": [],
   "source": [
    "summary(whi_chip_annot$vaf.base[whi_chip_annot$CHROM_POS_REF_ALT==\"17_7577121_G_A\"])\n",
    "\n",
    "summary(whi_chip_annot$vaf.lls[whi_chip_annot$CHROM_POS_REF_ALT==\"17_7577121_G_A\"])\n",
    "\n"
   ]
  },
  {
   "cell_type": "code",
   "execution_count": null,
   "id": "c44a61c6",
   "metadata": {},
   "outputs": [],
   "source": [
    "summary(all_putstive_chip_var$AF_raw)\n",
    "table(all_putstive_chip_var$whitelist, exclude = NULL)"
   ]
  },
  {
   "cell_type": "code",
   "execution_count": null,
   "id": "5729f742",
   "metadata": {},
   "outputs": [],
   "source": [
    "table(whi_chip$CHROM_POS_REF_ALT %in% all_putstive_chip_var$chr_pos_ref_alt)\n",
    "head(whi_chip$CHROM_POS_REF_ALT[!(whi_chip$CHROM_POS_REF_ALT %in% all_putstive_chip_var$chr_pos_ref_alt)])"
   ]
  },
  {
   "cell_type": "code",
   "execution_count": null,
   "id": "147e275d",
   "metadata": {},
   "outputs": [],
   "source": [
    "head(whi_chip[which(is.na(whi_chip$CHROM_POS_REF_ALT)),])"
   ]
  },
  {
   "cell_type": "code",
   "execution_count": null,
   "id": "6842018a",
   "metadata": {},
   "outputs": [],
   "source": [
    "table(ariel_whi_chip$`potential artifacts`, exclude = NULL)\n",
    "table(ariel_whi_chip$`LAX notes`, exclude = NULL)"
   ]
  },
  {
   "cell_type": "code",
   "execution_count": null,
   "id": "5bdbfa65",
   "metadata": {},
   "outputs": [],
   "source": []
  }
 ],
 "metadata": {
  "kernelspec": {
   "display_name": "R",
   "language": "R",
   "name": "ir"
  },
  "language_info": {
   "codemirror_mode": "r",
   "file_extension": ".r",
   "mimetype": "text/x-r-source",
   "name": "R",
   "pygments_lexer": "r",
   "version": "4.1.0"
  }
 },
 "nbformat": 4,
 "nbformat_minor": 5
}
